{
 "cells": [
  {
   "cell_type": "markdown",
   "metadata": {},
   "source": [
    "# Setting up dataset in Python"
   ]
  },
  {
   "cell_type": "markdown",
   "metadata": {},
   "source": [
    "This is the lab portion of the workshop.\n",
    "\n",
    "The tasks run in parallel to the demo portion of the workshop - all the concepts you need to complete this lab are included there. The best way to learn is by having a go and then using Google when you are stuck, or you can try to consult the documentation: https://docs.python.org/2.7/.\n",
    "\n",
    "We've also written a help function - if you get stuck on an exercise you can enter a \"hint code\" which will return some additional instructions.\n",
    "\n",
    "Try running \"helpFunction.helpFx(\"importing\")\" to see how this works."
   ]
  },
  {
   "cell_type": "code",
   "execution_count": 16,
   "metadata": {
    "collapsed": false
   },
   "outputs": [],
   "source": [
    "import helpFunction #don't blank this"
   ]
  },
  {
   "cell_type": "code",
   "execution_count": 17,
   "metadata": {
    "collapsed": false
   },
   "outputs": [
    {
     "name": "stdout",
     "output_type": "stream",
     "text": [
      "You can import installed python packages using \"import [packages]\". You can also import modules at a more detailed level \"import [packages].[module]\". Sometimes this is preferable because it allows the creation of direct shortcuts to the modules you commonly use \"import [packages].[module] as [nickname]\". Intead of using the full path of the module each time you want to use it, you can use the nickname. There are informal conventions on nicknames for popular packages: \"numpy\" is often called \"np\", \"pandas\" are \"pd\". More detail: https://docs.python.org/3/reference/import.html \n"
     ]
    }
   ],
   "source": [
    "helpFunction.helpFx(\"importing\")"
   ]
  },
  {
   "cell_type": "markdown",
   "metadata": {},
   "source": [
    "**Task 1:** Import the numpy and pandas libraries, and give them shortcut names using \"as\"."
   ]
  },
  {
   "cell_type": "code",
   "execution_count": 4,
   "metadata": {
    "collapsed": false
   },
   "outputs": [],
   "source": [
    "import numpy as np\n",
    "import pandas as pd"
   ]
  },
  {
   "cell_type": "markdown",
   "metadata": {},
   "source": [
    "We will now read in the \"Auto\" dataset using panda's \".read_csv()\" method - we've done this for you because i/o methods are outside the scope of this lab.\n",
    "\n",
    "Note that in this step we are removing rows \"*(axis=0)*\" with missing values - that isn't the only approach to missing values (imputation etc), but to make the exercise less complicated that is what we are doing."
   ]
  },
  {
   "cell_type": "code",
   "execution_count": 24,
   "metadata": {
    "collapsed": false
   },
   "outputs": [],
   "source": [
    "Auto = pd.read_csv('Auto.csv',na_values=\"?\").dropna(axis=0, how='any') #don't blank this"
   ]
  },
  {
   "cell_type": "markdown",
   "metadata": {},
   "source": [
    "# Simple Data Manipulation in Python"
   ]
  },
  {
   "cell_type": "markdown",
   "metadata": {},
   "source": [
    "**Task 2:** Print out a list of the variable names from the Audo dataset.\n",
    "\n",
    "Hint Codes:  \n",
    "\"printing\" : a short guide to the print function"
   ]
  },
  {
   "cell_type": "code",
   "execution_count": 36,
   "metadata": {
    "collapsed": false
   },
   "outputs": [
    {
     "name": "stdout",
     "output_type": "stream",
     "text": [
      "['mpg', 'cylinders', 'displacement', 'horsepower', 'weight', 'acceleration', 'year', 'origin', 'name']\n"
     ]
    }
   ],
   "source": [
    "print(list(Auto))"
   ]
  },
  {
   "cell_type": "markdown",
   "metadata": {},
   "source": [
    "**Task 3:** Use indexing to select the first ten records from the Auto dataset.\n",
    "  \n",
    "Hint Codes:  \n",
    "\"index_selection\" : selecting records using an index "
   ]
  },
  {
   "cell_type": "code",
   "execution_count": 26,
   "metadata": {
    "collapsed": false
   },
   "outputs": [
    {
     "data": {
      "text/html": [
       "<div>\n",
       "<table border=\"1\" class=\"dataframe\">\n",
       "  <thead>\n",
       "    <tr style=\"text-align: right;\">\n",
       "      <th></th>\n",
       "      <th>mpg</th>\n",
       "      <th>cylinders</th>\n",
       "      <th>displacement</th>\n",
       "      <th>horsepower</th>\n",
       "      <th>weight</th>\n",
       "      <th>acceleration</th>\n",
       "      <th>year</th>\n",
       "      <th>origin</th>\n",
       "      <th>name</th>\n",
       "    </tr>\n",
       "  </thead>\n",
       "  <tbody>\n",
       "    <tr>\n",
       "      <th>0</th>\n",
       "      <td>18.0</td>\n",
       "      <td>8</td>\n",
       "      <td>307.0</td>\n",
       "      <td>130.0</td>\n",
       "      <td>3504</td>\n",
       "      <td>12.0</td>\n",
       "      <td>70</td>\n",
       "      <td>1</td>\n",
       "      <td>chevrolet chevelle malibu</td>\n",
       "    </tr>\n",
       "    <tr>\n",
       "      <th>1</th>\n",
       "      <td>15.0</td>\n",
       "      <td>8</td>\n",
       "      <td>350.0</td>\n",
       "      <td>165.0</td>\n",
       "      <td>3693</td>\n",
       "      <td>11.5</td>\n",
       "      <td>70</td>\n",
       "      <td>1</td>\n",
       "      <td>buick skylark 320</td>\n",
       "    </tr>\n",
       "    <tr>\n",
       "      <th>2</th>\n",
       "      <td>18.0</td>\n",
       "      <td>8</td>\n",
       "      <td>318.0</td>\n",
       "      <td>150.0</td>\n",
       "      <td>3436</td>\n",
       "      <td>11.0</td>\n",
       "      <td>70</td>\n",
       "      <td>1</td>\n",
       "      <td>plymouth satellite</td>\n",
       "    </tr>\n",
       "    <tr>\n",
       "      <th>3</th>\n",
       "      <td>16.0</td>\n",
       "      <td>8</td>\n",
       "      <td>304.0</td>\n",
       "      <td>150.0</td>\n",
       "      <td>3433</td>\n",
       "      <td>12.0</td>\n",
       "      <td>70</td>\n",
       "      <td>1</td>\n",
       "      <td>amc rebel sst</td>\n",
       "    </tr>\n",
       "    <tr>\n",
       "      <th>4</th>\n",
       "      <td>17.0</td>\n",
       "      <td>8</td>\n",
       "      <td>302.0</td>\n",
       "      <td>140.0</td>\n",
       "      <td>3449</td>\n",
       "      <td>10.5</td>\n",
       "      <td>70</td>\n",
       "      <td>1</td>\n",
       "      <td>ford torino</td>\n",
       "    </tr>\n",
       "    <tr>\n",
       "      <th>5</th>\n",
       "      <td>15.0</td>\n",
       "      <td>8</td>\n",
       "      <td>429.0</td>\n",
       "      <td>198.0</td>\n",
       "      <td>4341</td>\n",
       "      <td>10.0</td>\n",
       "      <td>70</td>\n",
       "      <td>1</td>\n",
       "      <td>ford galaxie 500</td>\n",
       "    </tr>\n",
       "    <tr>\n",
       "      <th>6</th>\n",
       "      <td>14.0</td>\n",
       "      <td>8</td>\n",
       "      <td>454.0</td>\n",
       "      <td>220.0</td>\n",
       "      <td>4354</td>\n",
       "      <td>9.0</td>\n",
       "      <td>70</td>\n",
       "      <td>1</td>\n",
       "      <td>chevrolet impala</td>\n",
       "    </tr>\n",
       "    <tr>\n",
       "      <th>7</th>\n",
       "      <td>14.0</td>\n",
       "      <td>8</td>\n",
       "      <td>440.0</td>\n",
       "      <td>215.0</td>\n",
       "      <td>4312</td>\n",
       "      <td>8.5</td>\n",
       "      <td>70</td>\n",
       "      <td>1</td>\n",
       "      <td>plymouth fury iii</td>\n",
       "    </tr>\n",
       "    <tr>\n",
       "      <th>8</th>\n",
       "      <td>14.0</td>\n",
       "      <td>8</td>\n",
       "      <td>455.0</td>\n",
       "      <td>225.0</td>\n",
       "      <td>4425</td>\n",
       "      <td>10.0</td>\n",
       "      <td>70</td>\n",
       "      <td>1</td>\n",
       "      <td>pontiac catalina</td>\n",
       "    </tr>\n",
       "    <tr>\n",
       "      <th>9</th>\n",
       "      <td>15.0</td>\n",
       "      <td>8</td>\n",
       "      <td>390.0</td>\n",
       "      <td>190.0</td>\n",
       "      <td>3850</td>\n",
       "      <td>8.5</td>\n",
       "      <td>70</td>\n",
       "      <td>1</td>\n",
       "      <td>amc ambassador dpl</td>\n",
       "    </tr>\n",
       "  </tbody>\n",
       "</table>\n",
       "</div>"
      ],
      "text/plain": [
       "    mpg  cylinders  displacement  horsepower  weight  acceleration  year  \\\n",
       "0  18.0          8         307.0       130.0    3504          12.0    70   \n",
       "1  15.0          8         350.0       165.0    3693          11.5    70   \n",
       "2  18.0          8         318.0       150.0    3436          11.0    70   \n",
       "3  16.0          8         304.0       150.0    3433          12.0    70   \n",
       "4  17.0          8         302.0       140.0    3449          10.5    70   \n",
       "5  15.0          8         429.0       198.0    4341          10.0    70   \n",
       "6  14.0          8         454.0       220.0    4354           9.0    70   \n",
       "7  14.0          8         440.0       215.0    4312           8.5    70   \n",
       "8  14.0          8         455.0       225.0    4425          10.0    70   \n",
       "9  15.0          8         390.0       190.0    3850           8.5    70   \n",
       "\n",
       "   origin                       name  \n",
       "0       1  chevrolet chevelle malibu  \n",
       "1       1          buick skylark 320  \n",
       "2       1         plymouth satellite  \n",
       "3       1              amc rebel sst  \n",
       "4       1                ford torino  \n",
       "5       1           ford galaxie 500  \n",
       "6       1           chevrolet impala  \n",
       "7       1          plymouth fury iii  \n",
       "8       1           pontiac catalina  \n",
       "9       1         amc ambassador dpl  "
      ]
     },
     "execution_count": 26,
     "metadata": {},
     "output_type": "execute_result"
    }
   ],
   "source": [
    "Auto[0:10]"
   ]
  },
  {
   "cell_type": "markdown",
   "metadata": {},
   "source": [
    "**Task 4:** Use the \".head()\" method of your DataFrame to inspect the first few rows of the Auto dataset. \n",
    "\n",
    "What types are variable are in this dataset? Which do you think might be useful for predicting \"mpg\"?"
   ]
  },
  {
   "cell_type": "code",
   "execution_count": 27,
   "metadata": {
    "collapsed": false
   },
   "outputs": [
    {
     "data": {
      "text/html": [
       "<div>\n",
       "<table border=\"1\" class=\"dataframe\">\n",
       "  <thead>\n",
       "    <tr style=\"text-align: right;\">\n",
       "      <th></th>\n",
       "      <th>mpg</th>\n",
       "      <th>cylinders</th>\n",
       "      <th>displacement</th>\n",
       "      <th>horsepower</th>\n",
       "      <th>weight</th>\n",
       "      <th>acceleration</th>\n",
       "      <th>year</th>\n",
       "      <th>origin</th>\n",
       "      <th>name</th>\n",
       "    </tr>\n",
       "  </thead>\n",
       "  <tbody>\n",
       "    <tr>\n",
       "      <th>0</th>\n",
       "      <td>18.0</td>\n",
       "      <td>8</td>\n",
       "      <td>307.0</td>\n",
       "      <td>130.0</td>\n",
       "      <td>3504</td>\n",
       "      <td>12.0</td>\n",
       "      <td>70</td>\n",
       "      <td>1</td>\n",
       "      <td>chevrolet chevelle malibu</td>\n",
       "    </tr>\n",
       "    <tr>\n",
       "      <th>1</th>\n",
       "      <td>15.0</td>\n",
       "      <td>8</td>\n",
       "      <td>350.0</td>\n",
       "      <td>165.0</td>\n",
       "      <td>3693</td>\n",
       "      <td>11.5</td>\n",
       "      <td>70</td>\n",
       "      <td>1</td>\n",
       "      <td>buick skylark 320</td>\n",
       "    </tr>\n",
       "    <tr>\n",
       "      <th>2</th>\n",
       "      <td>18.0</td>\n",
       "      <td>8</td>\n",
       "      <td>318.0</td>\n",
       "      <td>150.0</td>\n",
       "      <td>3436</td>\n",
       "      <td>11.0</td>\n",
       "      <td>70</td>\n",
       "      <td>1</td>\n",
       "      <td>plymouth satellite</td>\n",
       "    </tr>\n",
       "    <tr>\n",
       "      <th>3</th>\n",
       "      <td>16.0</td>\n",
       "      <td>8</td>\n",
       "      <td>304.0</td>\n",
       "      <td>150.0</td>\n",
       "      <td>3433</td>\n",
       "      <td>12.0</td>\n",
       "      <td>70</td>\n",
       "      <td>1</td>\n",
       "      <td>amc rebel sst</td>\n",
       "    </tr>\n",
       "    <tr>\n",
       "      <th>4</th>\n",
       "      <td>17.0</td>\n",
       "      <td>8</td>\n",
       "      <td>302.0</td>\n",
       "      <td>140.0</td>\n",
       "      <td>3449</td>\n",
       "      <td>10.5</td>\n",
       "      <td>70</td>\n",
       "      <td>1</td>\n",
       "      <td>ford torino</td>\n",
       "    </tr>\n",
       "  </tbody>\n",
       "</table>\n",
       "</div>"
      ],
      "text/plain": [
       "    mpg  cylinders  displacement  horsepower  weight  acceleration  year  \\\n",
       "0  18.0          8         307.0       130.0    3504          12.0    70   \n",
       "1  15.0          8         350.0       165.0    3693          11.5    70   \n",
       "2  18.0          8         318.0       150.0    3436          11.0    70   \n",
       "3  16.0          8         304.0       150.0    3433          12.0    70   \n",
       "4  17.0          8         302.0       140.0    3449          10.5    70   \n",
       "\n",
       "   origin                       name  \n",
       "0       1  chevrolet chevelle malibu  \n",
       "1       1          buick skylark 320  \n",
       "2       1         plymouth satellite  \n",
       "3       1              amc rebel sst  \n",
       "4       1                ford torino  "
      ]
     },
     "execution_count": 27,
     "metadata": {},
     "output_type": "execute_result"
    }
   ],
   "source": [
    "Auto.head()"
   ]
  },
  {
   "cell_type": "markdown",
   "metadata": {},
   "source": [
    "# Simple Linear Modelling"
   ]
  },
  {
   "cell_type": "markdown",
   "metadata": {},
   "source": [
    "**Task 5:** Import the \"statsmodel api\" and \"statsmodel formula api\" libraries and give them nicknames. sm and smf are typical choices for nickname"
   ]
  },
  {
   "cell_type": "code",
   "execution_count": 28,
   "metadata": {
    "collapsed": false
   },
   "outputs": [],
   "source": [
    "import statsmodels.api as sm\n",
    "import statsmodels.formula.api as smf"
   ]
  },
  {
   "cell_type": "markdown",
   "metadata": {},
   "source": [
    "**Task 6:** Use the statsmodel formula API to create a linear model that predicts mpg using horsepower.  \n",
    "  \n",
    "Hint Codes:  \n",
    "\"smf_OLS\" : how to use the formula api to fit a simple regression.  \n",
    "\"smf_formula\" : the basics of writing a formula for the formula api using Patsy"
   ]
  },
  {
   "cell_type": "code",
   "execution_count": 29,
   "metadata": {
    "collapsed": false
   },
   "outputs": [],
   "source": [
    "lm = smf.ols(\"mpg~horsepower\",data=Auto).fit()"
   ]
  },
  {
   "cell_type": "markdown",
   "metadata": {},
   "source": [
    "## Examine the results"
   ]
  },
  {
   "cell_type": "markdown",
   "metadata": {},
   "source": [
    "**Task 7:** Use the \".dir()\" method to explore all the build in methods of your linear model. You will use these some of these methods for remaining tasks in this section."
   ]
  },
  {
   "cell_type": "code",
   "execution_count": 30,
   "metadata": {
    "collapsed": false
   },
   "outputs": [
    {
     "name": "stdout",
     "output_type": "stream",
     "text": [
      "['HC0_se', 'HC1_se', 'HC2_se', 'HC3_se', '_HCCM', '__class__', '__delattr__', '__dict__', '__doc__', '__format__', '__getattribute__', '__hash__', '__init__', '__module__', '__new__', '__reduce__', '__reduce_ex__', '__repr__', '__setattr__', '__sizeof__', '__str__', '__subclasshook__', '__weakref__', '_cache', '_data_attr', '_get_robustcov_results', '_is_nested', '_wexog_singular_values', 'aic', 'bic', 'bse', 'centered_tss', 'compare_f_test', 'compare_lm_test', 'compare_lr_test', 'condition_number', 'conf_int', 'conf_int_el', 'cov_HC0', 'cov_HC1', 'cov_HC2', 'cov_HC3', 'cov_kwds', 'cov_params', 'cov_type', 'df_model', 'df_resid', 'eigenvals', 'el_test', 'ess', 'f_pvalue', 'f_test', 'fittedvalues', 'fvalue', 'get_influence', 'get_robustcov_results', 'initialize', 'k_constant', 'llf', 'load', 'model', 'mse_model', 'mse_resid', 'mse_total', 'nobs', 'normalized_cov_params', 'outlier_test', 'params', 'predict', 'pvalues', 'remove_data', 'resid', 'resid_pearson', 'rsquared', 'rsquared_adj', 'save', 'scale', 'ssr', 'summary', 'summary2', 't_test', 'tvalues', 'uncentered_tss', 'use_t', 'wald_test', 'wresid']\n"
     ]
    }
   ],
   "source": [
    "print(dir(lm))"
   ]
  },
  {
   "cell_type": "markdown",
   "metadata": {},
   "source": [
    "**Task 8:** Use the \".summary()\" method to display key information about your linear model. "
   ]
  },
  {
   "cell_type": "code",
   "execution_count": 51,
   "metadata": {
    "collapsed": false
   },
   "outputs": [
    {
     "data": {
      "text/html": [
       "<table class=\"simpletable\">\n",
       "<caption>OLS Regression Results</caption>\n",
       "<tr>\n",
       "  <th>Dep. Variable:</th>           <td>mpg</td>       <th>  R-squared:         </th> <td>   0.606</td>\n",
       "</tr>\n",
       "<tr>\n",
       "  <th>Model:</th>                   <td>OLS</td>       <th>  Adj. R-squared:    </th> <td>   0.605</td>\n",
       "</tr>\n",
       "<tr>\n",
       "  <th>Method:</th>             <td>Least Squares</td>  <th>  F-statistic:       </th> <td>   599.7</td>\n",
       "</tr>\n",
       "<tr>\n",
       "  <th>Date:</th>             <td>Mon, 23 Apr 2018</td> <th>  Prob (F-statistic):</th> <td>7.03e-81</td>\n",
       "</tr>\n",
       "<tr>\n",
       "  <th>Time:</th>                 <td>12:52:46</td>     <th>  Log-Likelihood:    </th> <td> -1178.7</td>\n",
       "</tr>\n",
       "<tr>\n",
       "  <th>No. Observations:</th>      <td>   392</td>      <th>  AIC:               </th> <td>   2361.</td>\n",
       "</tr>\n",
       "<tr>\n",
       "  <th>Df Residuals:</th>          <td>   390</td>      <th>  BIC:               </th> <td>   2369.</td>\n",
       "</tr>\n",
       "<tr>\n",
       "  <th>Df Model:</th>              <td>     1</td>      <th>                     </th>     <td> </td>   \n",
       "</tr>\n",
       "<tr>\n",
       "  <th>Covariance Type:</th>      <td>nonrobust</td>    <th>                     </th>     <td> </td>   \n",
       "</tr>\n",
       "</table>\n",
       "<table class=\"simpletable\">\n",
       "<tr>\n",
       "       <td></td>         <th>coef</th>     <th>std err</th>      <th>t</th>      <th>P>|t|</th> <th>[95.0% Conf. Int.]</th> \n",
       "</tr>\n",
       "<tr>\n",
       "  <th>Intercept</th>  <td>   39.9359</td> <td>    0.717</td> <td>   55.660</td> <td> 0.000</td> <td>   38.525    41.347</td>\n",
       "</tr>\n",
       "<tr>\n",
       "  <th>horsepower</th> <td>   -0.1578</td> <td>    0.006</td> <td>  -24.489</td> <td> 0.000</td> <td>   -0.171    -0.145</td>\n",
       "</tr>\n",
       "</table>\n",
       "<table class=\"simpletable\">\n",
       "<tr>\n",
       "  <th>Omnibus:</th>       <td>16.432</td> <th>  Durbin-Watson:     </th> <td>   0.920</td>\n",
       "</tr>\n",
       "<tr>\n",
       "  <th>Prob(Omnibus):</th> <td> 0.000</td> <th>  Jarque-Bera (JB):  </th> <td>  17.305</td>\n",
       "</tr>\n",
       "<tr>\n",
       "  <th>Skew:</th>          <td> 0.492</td> <th>  Prob(JB):          </th> <td>0.000175</td>\n",
       "</tr>\n",
       "<tr>\n",
       "  <th>Kurtosis:</th>      <td> 3.299</td> <th>  Cond. No.          </th> <td>    322.</td>\n",
       "</tr>\n",
       "</table>"
      ],
      "text/plain": [
       "<class 'statsmodels.iolib.summary.Summary'>\n",
       "\"\"\"\n",
       "                            OLS Regression Results                            \n",
       "==============================================================================\n",
       "Dep. Variable:                    mpg   R-squared:                       0.606\n",
       "Model:                            OLS   Adj. R-squared:                  0.605\n",
       "Method:                 Least Squares   F-statistic:                     599.7\n",
       "Date:                Mon, 23 Apr 2018   Prob (F-statistic):           7.03e-81\n",
       "Time:                        12:52:46   Log-Likelihood:                -1178.7\n",
       "No. Observations:                 392   AIC:                             2361.\n",
       "Df Residuals:                     390   BIC:                             2369.\n",
       "Df Model:                           1                                         \n",
       "Covariance Type:            nonrobust                                         \n",
       "==============================================================================\n",
       "                 coef    std err          t      P>|t|      [95.0% Conf. Int.]\n",
       "------------------------------------------------------------------------------\n",
       "Intercept     39.9359      0.717     55.660      0.000        38.525    41.347\n",
       "horsepower    -0.1578      0.006    -24.489      0.000        -0.171    -0.145\n",
       "==============================================================================\n",
       "Omnibus:                       16.432   Durbin-Watson:                   0.920\n",
       "Prob(Omnibus):                  0.000   Jarque-Bera (JB):               17.305\n",
       "Skew:                           0.492   Prob(JB):                     0.000175\n",
       "Kurtosis:                       3.299   Cond. No.                         322.\n",
       "==============================================================================\n",
       "\n",
       "Warnings:\n",
       "[1] Standard Errors assume that the covariance matrix of the errors is correctly specified.\n",
       "\"\"\""
      ]
     },
     "execution_count": 51,
     "metadata": {},
     "output_type": "execute_result"
    }
   ],
   "source": [
    "lm.summary()"
   ]
  },
  {
   "cell_type": "markdown",
   "metadata": {},
   "source": [
    "**Task 9:** Identify and use the appropriate method to examine the model coefficients.\n",
    "\n",
    "What do these imply about the relationship between horsepower and mpg?"
   ]
  },
  {
   "cell_type": "code",
   "execution_count": 44,
   "metadata": {
    "collapsed": false
   },
   "outputs": [
    {
     "data": {
      "text/plain": [
       "Intercept     39.935861\n",
       "horsepower    -0.157845\n",
       "dtype: float64"
      ]
     },
     "execution_count": 44,
     "metadata": {},
     "output_type": "execute_result"
    }
   ],
   "source": [
    "#lm.params"
   ]
  },
  {
   "cell_type": "markdown",
   "metadata": {},
   "source": [
    "**Task 10:** Identify and use the appropriate method to examine the 95% confidence intervals of the model coefficients."
   ]
  },
  {
   "cell_type": "code",
   "execution_count": 38,
   "metadata": {
    "collapsed": false
   },
   "outputs": [
    {
     "data": {
      "text/html": [
       "<div>\n",
       "<table border=\"1\" class=\"dataframe\">\n",
       "  <thead>\n",
       "    <tr style=\"text-align: right;\">\n",
       "      <th></th>\n",
       "      <th>0</th>\n",
       "      <th>1</th>\n",
       "    </tr>\n",
       "  </thead>\n",
       "  <tbody>\n",
       "    <tr>\n",
       "      <th>Intercept</th>\n",
       "      <td>38.525212</td>\n",
       "      <td>41.346510</td>\n",
       "    </tr>\n",
       "    <tr>\n",
       "      <th>horsepower</th>\n",
       "      <td>-0.170517</td>\n",
       "      <td>-0.145172</td>\n",
       "    </tr>\n",
       "  </tbody>\n",
       "</table>\n",
       "</div>"
      ],
      "text/plain": [
       "                    0          1\n",
       "Intercept   38.525212  41.346510\n",
       "horsepower  -0.170517  -0.145172"
      ]
     },
     "execution_count": 38,
     "metadata": {},
     "output_type": "execute_result"
    }
   ],
   "source": [
    "#lm.conf_int(0.05)"
   ]
  },
  {
   "cell_type": "markdown",
   "metadata": {},
   "source": [
    "**Task 11:** Use label indexing and the \".tvalues\" and \".pvalues\" methods to examine the significance values of the \"horsepower\" coefficient. We have provided a pre-built \"print()\" statement this time, but in the following tasks you will have the opportunity to construct your own."
   ]
  },
  {
   "cell_type": "code",
   "execution_count": 39,
   "metadata": {
    "collapsed": false
   },
   "outputs": [
    {
     "name": "stdout",
     "output_type": "stream",
     "text": [
      "The t-value of the horsepower coefficient is -24.49, and the associated p-value is 7.03E-81\n"
     ]
    }
   ],
   "source": [
    "print(\"The t-value of the horsepower coefficient is %0.2f, and the associated p-value is %0.2E\") % (lm.tvalues['horsepower'], lm.pvalues['horsepower']) #delete string formats"
   ]
  },
  {
   "cell_type": "markdown",
   "metadata": {},
   "source": [
    "**Task 12:** Identify the methods you can use to display the overall F-value and related p-value for your linear model. Construct a print statement with string formatting to display these results in an appropriate sentence with a useful degree of precision.\n",
    "\n",
    "Hint Codes:  \n",
    "\"printing\" : a short guide to the print function"
   ]
  },
  {
   "cell_type": "code",
   "execution_count": 42,
   "metadata": {
    "collapsed": false
   },
   "outputs": [
    {
     "name": "stdout",
     "output_type": "stream",
     "text": [
      "The F-Statistic of the model is 599.72 and associated p-value is 7.03E-81\n"
     ]
    }
   ],
   "source": [
    "#print(\"The F-Statistic of the model is %0.2f and associated p-value is %0.2E\") % (lm.fvalue, lm.f_pvalue) #delete"
   ]
  },
  {
   "cell_type": "markdown",
   "metadata": {},
   "source": [
    "**Task 13:** Identify the methods you can use to display the r-square and r-squared adjusted statistics for your linear model. Construct a print statement with string formatting to display these results in an appropriate sentence with a useful degree of precision."
   ]
  },
  {
   "cell_type": "code",
   "execution_count": 43,
   "metadata": {
    "collapsed": false
   },
   "outputs": [
    {
     "name": "stdout",
     "output_type": "stream",
     "text": [
      "The R-squared value is 0.606 and the R-squared adjusted is 0.605\n"
     ]
    }
   ],
   "source": [
    "#print(\"The R-squared value is %0.3f and the R-squared adjusted is %0.3f\") % (lm.rsquared, lm.rsquared_adj)"
   ]
  },
  {
   "cell_type": "markdown",
   "metadata": {},
   "source": [
    "## Predicting new observations"
   ]
  },
  {
   "cell_type": "markdown",
   "metadata": {},
   "source": [
    "We need to predict \"mpg\" for three new cars that have just rolled of the production line. \n",
    "\n",
    "**Task 14:** Construct a DataFrame called \"Xnew\"  with a single column called \"horsepower\" and three observations (100.0, 150.0 and 200.0).\n",
    "\n",
    "Hint Codes:  \n",
    "\"dataframe\" : a short guide to constructing a DataFrame [TO DO]"
   ]
  },
  {
   "cell_type": "code",
   "execution_count": 47,
   "metadata": {
    "collapsed": false
   },
   "outputs": [],
   "source": [
    "Xnew = #pd.DataFrame([100.0,150.0,200.0],columns = ['horsepower'])"
   ]
  },
  {
   "cell_type": "markdown",
   "metadata": {},
   "source": [
    "**Task 15:** Use the \"predict()\" method of your linear model to predict the mpg values for the new cars."
   ]
  },
  {
   "cell_type": "code",
   "execution_count": 48,
   "metadata": {
    "collapsed": false
   },
   "outputs": [
    {
     "name": "stdout",
     "output_type": "stream",
     "text": [
      "[ 24.15138769  16.25915102   8.36691435]\n"
     ]
    }
   ],
   "source": [
    "ynewpred = #lm.predict(Xnew) \n",
    "print(ynewpred)"
   ]
  },
  {
   "cell_type": "markdown",
   "metadata": {},
   "source": [
    "As discussed in the lab, there are currently no methods for confidence and prediction intervals - the code below can calculate them - but I haven't edited it.\n",
    "\n",
    "Alter the code below to get confidence and prediction intervals for your predictions. Note that I called my predictions \"ynewpred\"."
   ]
  },
  {
   "cell_type": "code",
   "execution_count": 45,
   "metadata": {
    "collapsed": false
   },
   "outputs": [
    {
     "name": "stdout",
     "output_type": "stream",
     "text": [
      "         fit        lwr        upr\n",
      "0  23.362164  22.874970  23.849358\n",
      "1  24.151388  23.660958  24.641817\n",
      "2  21.783717  21.278621  22.288812\n",
      "         fit        lwr        upr\n",
      "0  23.362164  13.704829  33.019499\n",
      "1  24.151388  14.493888  33.808887\n",
      "2  21.783717  12.125462  31.441972\n"
     ]
    }
   ],
   "source": [
    "from scipy import stats\n",
    "\n",
    "#                     /-------------------\n",
    "# t_stat * std_er *  /            rpr_sq\n",
    "#                   /  inv_ob + ----------\n",
    "#                  v               sxx\n",
    "\n",
    "# ssx = sm_x2s - sm_xs2\n",
    "#                -------\n",
    "#                lm.nobs\n",
    "\n",
    "\n",
    "# Sum of the x^2's \n",
    "sm_x2s = ((Auto['horsepower']**2).sum())\n",
    "\n",
    "# Sum of the x's squared\n",
    "sm_xs2 = (Auto['horsepower'].sum())**2\n",
    "\n",
    "# Calculating Sxx\n",
    "sxx = (sm_x2s - sm_xs2/lm.nobs)\n",
    "\n",
    "# T statistic\n",
    "t_stat = stats.t.ppf(1-0.025, lm.nobs - 2)\n",
    "\n",
    "# Standard error (square root of MSE) [tick]\n",
    "std_er = lm.mse_resid**0.5\n",
    "\n",
    "# Inverse of the nubmer of observatinos\n",
    "inv_ob = (1/lm.nobs)\n",
    "\n",
    "# Residual of the predicted value squared  [mean mpg: fick]\n",
    "rpr_sq = (Xnew['horsepower'].values - (Auto['horsepower'].mean()))**2\n",
    "\n",
    "# Calculating confidence interval/2\n",
    "ci = t_stat*std_er*((inv_ob  + rpr_sq/sxx)**0.5)\n",
    "\n",
    "# Calculating prediction interval/2\n",
    "pi = t_stat*std_er*((1+inv_ob  + rpr_sq/sxx)**0.5)\n",
    "\n",
    "# Recreating confidence interval matrix\n",
    "ci_pd = pd.DataFrame(ynewpred,columns=['fit'])\n",
    "ci_pd['lwr'] = ynewpred-ci\n",
    "ci_pd['upr'] = ynewpred+ci\n",
    "\n",
    "# Recreating prediction interval matrix\n",
    "pi_pd = pd.DataFrame(ynewpred,columns=['fit'])\n",
    "pi_pd['lwr'] = ynewpred-pi\n",
    "pi_pd['upr'] = ynewpred+pi\n",
    "\n",
    "print(ci_pd)\n",
    "print(pi_pd)"
   ]
  },
  {
   "cell_type": "markdown",
   "metadata": {},
   "source": [
    "## Visualising data and diagnostic plots"
   ]
  },
  {
   "cell_type": "markdown",
   "metadata": {},
   "source": [
    "Import matplotlib pyplot and give it the nickname plt"
   ]
  },
  {
   "cell_type": "code",
   "execution_count": 46,
   "metadata": {
    "collapsed": true
   },
   "outputs": [],
   "source": [
    "import matplotlib.pyplot as plt"
   ]
  },
  {
   "cell_type": "markdown",
   "metadata": {},
   "source": [
    "Using the methods of pyplot, create a scatting plot comparing horsepower to mpg, and label the axis. \n",
    "  \n",
    "Hint Codes:  \n",
    "\"plot_basics\" : how to make a chart using pyplot"
   ]
  },
  {
   "cell_type": "code",
   "execution_count": 47,
   "metadata": {
    "collapsed": false
   },
   "outputs": [
    {
     "data": {
      "image/png": "[encoded data removed]",
      "text/plain": [
       "<matplotlib.figure.Figure at 0x7f92a0a54290>"
      ]
     },
     "metadata": {},
     "output_type": "display_data"
    }
   ],
   "source": [
    "plt.scatter(Auto['horsepower'],Auto['mpg'])\n",
    "plt.xlabel('horsepower')\n",
    "plt.ylabel('mpg')\n",
    "plt.show()"
   ]
  },
  {
   "cell_type": "markdown",
   "metadata": {},
   "source": [
    "Create a graph with:  \n",
    "  \n",
    "a) a scatter plot of horsepower and mpg, using black \"+\" symbols for the points.  \n",
    "b) a line plot of horsepower and the fitted values, using a red line of width 2  \n",
    "c) labeled axis wioth size 12 font\n",
    "\n",
    "Hint Codes:  \n",
    "\"plot_options\" : how to customise a chart using pyplot [to do]"
   ]
  },
  {
   "cell_type": "code",
   "execution_count": 48,
   "metadata": {
    "collapsed": false
   },
   "outputs": [
    {
     "data": {
      "image/png": "[encoded data removed]",
      "text/plain": [
       "<matplotlib.figure.Figure at 0x7f92a0b06e50>"
      ]
     },
     "metadata": {},
     "output_type": "display_data"
    }
   ],
   "source": [
    "plt.scatter(Auto['horsepower'],Auto['mpg'],marker=\"+\",c=\"black\")\n",
    "plt.plot(Auto['horsepower'],lm.fittedvalues, color='red', linewidth=2)\n",
    "plt.xlabel('horsepower', fontsize=12)\n",
    "plt.ylabel('mpg', fontsize=12)\n",
    "plt.show()"
   ]
  },
  {
   "cell_type": "markdown",
   "metadata": {},
   "source": [
    "Create four plots to explore the quality of your model:\n",
    "\n",
    "a) fitted values vs redisuals  \n",
    "b) A normal Q-Q plot (we have done this for yout as it relatively complex)  \n",
    "c) fitted values vs square root of standardised redisuals  \n",
    "d) leverage vs standardised residuals  \n",
    "\n",
    "The markers should be a red \"x\", and the axis should be appropriately labelled in size 12 font.\n",
    "\n",
    "For this example we have left in the structural elements of the plot (figure size, subplot, show), there is an opportunity to test this functionality later in the lab.  \n",
    "\n",
    "Hint Codes:  \n",
    "\"diagnostic_graphs\" : how to get diagnostic properties (e.g. residuals) for your model  \n",
    "\"get_leverage\" : how to get leverage statistics for your observations  \n",
    "\"square_root\" : how to calculate a square root in python"
   ]
  },
  {
   "cell_type": "code",
   "execution_count": 49,
   "metadata": {
    "collapsed": false
   },
   "outputs": [
    {
     "data": {
      "image/png": "[encoded data removed]",
      "text/plain": [
       "<matplotlib.figure.Figure at 0x7f92a0872910>"
      ]
     },
     "metadata": {},
     "output_type": "display_data"
    }
   ],
   "source": [
    "#Set plotsize - the below means ten inches down by ten inches across.\n",
    "plt.figure(figsize=(10,10))\n",
    "\n",
    "# Top Left\n",
    "plt.subplot(221)\n",
    "plt.scatter(lm.fittedvalues,lm.resid,marker=\"x\",c=\"red\")\n",
    "plt.xlabel('Fitted values', fontsize=12)\n",
    "plt.ylabel('Residuals', fontsize=12)\n",
    "\n",
    "# Top Right\n",
    "theoretical_distribution = np.sort((stats.norm.ppf((boston_pd['horsepower'].index.values + 1)/(lm.nobs+1))))\n",
    "observed_distribution = np.sort(lm.resid_pearson)\n",
    "\n",
    "plt.subplot(222)\n",
    "plt.scatter(theoretical_distribution,observed_distribution,marker=\"+\",c=\"black\")\n",
    "plt.plot([min(np.min(observed_distribution),np.min(theoretical_distribution)),max(np.max(observed_distribution),np.max(theoretical_distribution))],[min(np.min(observed_distribution),np.min(theoretical_distribution)),max(np.max(observed_distribution),np.max(theoretical_distribution))], color='grey', linewidth=1)\n",
    "plt.xlabel('Theoretical Quanties', fontsize=12)\n",
    "plt.ylabel('Standardised Residuals', fontsize=12)\n",
    "                                                                                             \n",
    "# Bottom Left\n",
    "plt.subplot(223)\n",
    "plt.ylim(0.0,2.0)\n",
    "plt.scatter(lm.fittedvalues,lm.resid_pearson**.5,marker=\"x\",c=\"red\")\n",
    "plt.xlabel('Fitted values', fontsize=12)\n",
    "plt.ylabel('Square Root Standardised Residuals', fontsize=12)\n",
    "\n",
    "# Bottom Right\n",
    "plt.subplot(224)\n",
    "plt.xlim(0.00,0.03)\n",
    "plt.scatter((lm.get_influence().hat_matrix_diag),lm.resid_pearson,marker=\"x\",c=\"red\")\n",
    "plt.xlabel('Leverage', fontsize=12)\n",
    "plt.ylabel('Standardised Residuals', fontsize=12)\n",
    "\n",
    "plt.show()"
   ]
  },
  {
   "cell_type": "markdown",
   "metadata": {},
   "source": [
    "Determine which observation in your model has the highest leverage using the argmax() method.\n",
    "\n",
    "Hint Codes:  \n",
    "\"argmax\" : how to get the index of the highest value observation in a vector"
   ]
  },
  {
   "cell_type": "code",
   "execution_count": 62,
   "metadata": {
    "collapsed": false
   },
   "outputs": [
    {
     "name": "stdout",
     "output_type": "stream",
     "text": [
      "Index of highest leverage observation: 115\n"
     ]
    }
   ],
   "source": [
    "high_lev = (lm.get_influence().hat_matrix_diag).argmax()\n",
    "print(\"Index of highest leverage observation: %s\") % high_lev"
   ]
  },
  {
   "cell_type": "markdown",
   "metadata": {},
   "source": [
    "Determine the horsepower and mpg values of the highest leverage observation using the loc() method.\n",
    "\n",
    "Hint Codes:  \n",
    "\"loc\" : how to select values from a Dataframe"
   ]
  },
  {
   "cell_type": "code",
   "execution_count": 64,
   "metadata": {
    "collapsed": false
   },
   "outputs": [
    {
     "name": "stdout",
     "output_type": "stream",
     "text": [
      "Vales of highest leverage observation: 145.0 horsepower, 15.0 mpg\n"
     ]
    }
   ],
   "source": [
    "high_lev_hp = Auto.loc[high_lev,['horsepower']]\n",
    "high_lev_mpg = Auto.loc[high_lev,['mpg']]\n",
    "print(\"Vales of highest leverage observation: %0.1f horsepower, %0.1f mpg\") % (high_lev_hp,high_lev_mpg)"
   ]
  },
  {
   "cell_type": "markdown",
   "metadata": {},
   "source": [
    "Determine the leverage value of the highest leverage observation by selecting the relevant element of the hat matrix diagonal."
   ]
  },
  {
   "cell_type": "code",
   "execution_count": 53,
   "metadata": {
    "collapsed": false
   },
   "outputs": [
    {
     "name": "stdout",
     "output_type": "stream",
     "text": [
      "Leverage of highest leverage observation: 0.0307 \n"
     ]
    }
   ],
   "source": [
    "lev_max = (lm.get_influence().hat_matrix_diag)[high_lev]\n",
    "print(\"Leverage of highest leverage observation: %0.4f \") % lev_max"
   ]
  },
  {
   "cell_type": "markdown",
   "metadata": {
    "collapsed": true
   },
   "source": [
    "# Multiple Linear Regression"
   ]
  },
  {
   "cell_type": "markdown",
   "metadata": {},
   "source": [
    "We're now going to go back to the simpler split of the data into IV/DV"
   ]
  },
  {
   "cell_type": "code",
   "execution_count": 68,
   "metadata": {
    "collapsed": true
   },
   "outputs": [],
   "source": [
    "Auto_DV = pd.DataFrame(Auto,columns = ['cylinders', 'displacement', 'horsepower', 'weight', 'acceleration', 'year', 'origin'])\n",
    "Auto_IV = pd.DataFrame(Auto,columns = ['mpg'])"
   ]
  },
  {
   "cell_type": "markdown",
   "metadata": {},
   "source": [
    "Another way to run linear regressions (without using the formula api).\n",
    "\n",
    "For the following examples, we cannot use the formula api becuase the python implimentation doesn't use \".\" to represent \"all variables\"\n",
    "\n",
    "Notice that in this method we now have to add the constant mannually"
   ]
  },
  {
   "cell_type": "code",
   "execution_count": 69,
   "metadata": {
    "collapsed": false
   },
   "outputs": [
    {
     "data": {
      "text/html": [
       "<table class=\"simpletable\">\n",
       "<caption>OLS Regression Results</caption>\n",
       "<tr>\n",
       "  <th>Dep. Variable:</th>           <td>mpg</td>       <th>  R-squared:         </th> <td>   0.821</td> \n",
       "</tr>\n",
       "<tr>\n",
       "  <th>Model:</th>                   <td>OLS</td>       <th>  Adj. R-squared:    </th> <td>   0.818</td> \n",
       "</tr>\n",
       "<tr>\n",
       "  <th>Method:</th>             <td>Least Squares</td>  <th>  F-statistic:       </th> <td>   252.4</td> \n",
       "</tr>\n",
       "<tr>\n",
       "  <th>Date:</th>             <td>Wed, 28 Mar 2018</td> <th>  Prob (F-statistic):</th> <td>2.04e-139</td>\n",
       "</tr>\n",
       "<tr>\n",
       "  <th>Time:</th>                 <td>11:23:28</td>     <th>  Log-Likelihood:    </th> <td> -1023.5</td> \n",
       "</tr>\n",
       "<tr>\n",
       "  <th>No. Observations:</th>      <td>   392</td>      <th>  AIC:               </th> <td>   2063.</td> \n",
       "</tr>\n",
       "<tr>\n",
       "  <th>Df Residuals:</th>          <td>   384</td>      <th>  BIC:               </th> <td>   2095.</td> \n",
       "</tr>\n",
       "<tr>\n",
       "  <th>Df Model:</th>              <td>     7</td>      <th>                     </th>     <td> </td>    \n",
       "</tr>\n",
       "<tr>\n",
       "  <th>Covariance Type:</th>      <td>nonrobust</td>    <th>                     </th>     <td> </td>    \n",
       "</tr>\n",
       "</table>\n",
       "<table class=\"simpletable\">\n",
       "<tr>\n",
       "        <td></td>          <th>coef</th>     <th>std err</th>      <th>t</th>      <th>P>|t|</th> <th>[95.0% Conf. Int.]</th> \n",
       "</tr>\n",
       "<tr>\n",
       "  <th>const</th>        <td>  -17.2184</td> <td>    4.644</td> <td>   -3.707</td> <td> 0.000</td> <td>  -26.350    -8.087</td>\n",
       "</tr>\n",
       "<tr>\n",
       "  <th>cylinders</th>    <td>   -0.4934</td> <td>    0.323</td> <td>   -1.526</td> <td> 0.128</td> <td>   -1.129     0.142</td>\n",
       "</tr>\n",
       "<tr>\n",
       "  <th>displacement</th> <td>    0.0199</td> <td>    0.008</td> <td>    2.647</td> <td> 0.008</td> <td>    0.005     0.035</td>\n",
       "</tr>\n",
       "<tr>\n",
       "  <th>horsepower</th>   <td>   -0.0170</td> <td>    0.014</td> <td>   -1.230</td> <td> 0.220</td> <td>   -0.044     0.010</td>\n",
       "</tr>\n",
       "<tr>\n",
       "  <th>weight</th>       <td>   -0.0065</td> <td>    0.001</td> <td>   -9.929</td> <td> 0.000</td> <td>   -0.008    -0.005</td>\n",
       "</tr>\n",
       "<tr>\n",
       "  <th>acceleration</th> <td>    0.0806</td> <td>    0.099</td> <td>    0.815</td> <td> 0.415</td> <td>   -0.114     0.275</td>\n",
       "</tr>\n",
       "<tr>\n",
       "  <th>year</th>         <td>    0.7508</td> <td>    0.051</td> <td>   14.729</td> <td> 0.000</td> <td>    0.651     0.851</td>\n",
       "</tr>\n",
       "<tr>\n",
       "  <th>origin</th>       <td>    1.4261</td> <td>    0.278</td> <td>    5.127</td> <td> 0.000</td> <td>    0.879     1.973</td>\n",
       "</tr>\n",
       "</table>\n",
       "<table class=\"simpletable\">\n",
       "<tr>\n",
       "  <th>Omnibus:</th>       <td>31.906</td> <th>  Durbin-Watson:     </th> <td>   1.309</td>\n",
       "</tr>\n",
       "<tr>\n",
       "  <th>Prob(Omnibus):</th> <td> 0.000</td> <th>  Jarque-Bera (JB):  </th> <td>  53.100</td>\n",
       "</tr>\n",
       "<tr>\n",
       "  <th>Skew:</th>          <td> 0.529</td> <th>  Prob(JB):          </th> <td>2.95e-12</td>\n",
       "</tr>\n",
       "<tr>\n",
       "  <th>Kurtosis:</th>      <td> 4.460</td> <th>  Cond. No.          </th> <td>8.59e+04</td>\n",
       "</tr>\n",
       "</table>"
      ],
      "text/plain": [
       "<class 'statsmodels.iolib.summary.Summary'>\n",
       "\"\"\"\n",
       "                            OLS Regression Results                            \n",
       "==============================================================================\n",
       "Dep. Variable:                    mpg   R-squared:                       0.821\n",
       "Model:                            OLS   Adj. R-squared:                  0.818\n",
       "Method:                 Least Squares   F-statistic:                     252.4\n",
       "Date:                Wed, 28 Mar 2018   Prob (F-statistic):          2.04e-139\n",
       "Time:                        11:23:28   Log-Likelihood:                -1023.5\n",
       "No. Observations:                 392   AIC:                             2063.\n",
       "Df Residuals:                     384   BIC:                             2095.\n",
       "Df Model:                           7                                         \n",
       "Covariance Type:            nonrobust                                         \n",
       "================================================================================\n",
       "                   coef    std err          t      P>|t|      [95.0% Conf. Int.]\n",
       "--------------------------------------------------------------------------------\n",
       "const          -17.2184      4.644     -3.707      0.000       -26.350    -8.087\n",
       "cylinders       -0.4934      0.323     -1.526      0.128        -1.129     0.142\n",
       "displacement     0.0199      0.008      2.647      0.008         0.005     0.035\n",
       "horsepower      -0.0170      0.014     -1.230      0.220        -0.044     0.010\n",
       "weight          -0.0065      0.001     -9.929      0.000        -0.008    -0.005\n",
       "acceleration     0.0806      0.099      0.815      0.415        -0.114     0.275\n",
       "year             0.7508      0.051     14.729      0.000         0.651     0.851\n",
       "origin           1.4261      0.278      5.127      0.000         0.879     1.973\n",
       "==============================================================================\n",
       "Omnibus:                       31.906   Durbin-Watson:                   1.309\n",
       "Prob(Omnibus):                  0.000   Jarque-Bera (JB):               53.100\n",
       "Skew:                           0.529   Prob(JB):                     2.95e-12\n",
       "Kurtosis:                       4.460   Cond. No.                     8.59e+04\n",
       "==============================================================================\n",
       "\n",
       "Warnings:\n",
       "[1] Standard Errors assume that the covariance matrix of the errors is correctly specified.\n",
       "[2] The condition number is large, 8.59e+04. This might indicate that there are\n",
       "strong multicollinearity or other numerical problems.\n",
       "\"\"\""
      ]
     },
     "execution_count": 69,
     "metadata": {},
     "output_type": "execute_result"
    }
   ],
   "source": [
    "lm = sm.OLS(Auto_IV,sm.add_constant(Auto_DV)).fit()\n",
    "lm.summary()"
   ]
  },
  {
   "cell_type": "markdown",
   "metadata": {},
   "source": [
    "## Variance Inflation Factor"
   ]
  },
  {
   "cell_type": "code",
   "execution_count": 74,
   "metadata": {
    "collapsed": false
   },
   "outputs": [],
   "source": [
    "from statsmodels.stats.outliers_influence import variance_inflation_factor"
   ]
  },
  {
   "cell_type": "code",
   "execution_count": 76,
   "metadata": {
    "collapsed": false
   },
   "outputs": [],
   "source": [
    "vif = pd.DataFrame()\n",
    "vif[\"Features\"] = sm.add_constant(Auto_DV).columns\n",
    "vif[\"VIF Factor\"] = [variance_inflation_factor(sm.add_constant(Auto_DV).values, i) for i in range(len(vif[\"Features\"]))]"
   ]
  },
  {
   "cell_type": "code",
   "execution_count": 14,
   "metadata": {
    "collapsed": false
   },
   "outputs": [
    {
     "ename": "NameError",
     "evalue": "name 'vif' is not defined",
     "output_type": "error",
     "traceback": [
      "\u001b[0;31m---------------------------------------------------------------------------\u001b[0m",
      "\u001b[0;31mNameError\u001b[0m                                 Traceback (most recent call last)",
      "\u001b[0;32m<ipython-input-14-122ff1c65421>\u001b[0m in \u001b[0;36m<module>\u001b[0;34m()\u001b[0m\n\u001b[0;32m----> 1\u001b[0;31m \u001b[0mvif\u001b[0m\u001b[0;34m\u001b[0m\u001b[0m\n\u001b[0m",
      "\u001b[0;31mNameError\u001b[0m: name 'vif' is not defined"
     ]
    }
   ],
   "source": [
    "vif"
   ]
  },
  {
   "cell_type": "markdown",
   "metadata": {},
   "source": [
    "## Re-fitting the model"
   ]
  },
  {
   "cell_type": "markdown",
   "metadata": {},
   "source": [
    "In the R version of this code, we demonstrated subtracting variables from the \".\" (all variables) symbol, and also updating an existing model:\n",
    "\n",
    "lm.fit1=lm(mpg~.-age,data=Auto)\n",
    "lm.fit1=update(lm.fit, ~.-age)\n",
    "\n",
    "These functions do not exist in python, but the first can easily be replicated:"
   ]
  },
  {
   "cell_type": "code",
   "execution_count": 78,
   "metadata": {
    "collapsed": false
   },
   "outputs": [
    {
     "data": {
      "text/html": [
       "<table class=\"simpletable\">\n",
       "<caption>OLS Regression Results</caption>\n",
       "<tr>\n",
       "  <th>Dep. Variable:</th>           <td>mpg</td>       <th>  R-squared:         </th> <td>   0.818</td> \n",
       "</tr>\n",
       "<tr>\n",
       "  <th>Model:</th>                   <td>OLS</td>       <th>  Adj. R-squared:    </th> <td>   0.815</td> \n",
       "</tr>\n",
       "<tr>\n",
       "  <th>Method:</th>             <td>Least Squares</td>  <th>  F-statistic:       </th> <td>   288.8</td> \n",
       "</tr>\n",
       "<tr>\n",
       "  <th>Date:</th>             <td>Wed, 28 Mar 2018</td> <th>  Prob (F-statistic):</th> <td>3.67e-139</td>\n",
       "</tr>\n",
       "<tr>\n",
       "  <th>Time:</th>                 <td>11:34:43</td>     <th>  Log-Likelihood:    </th> <td> -1027.0</td> \n",
       "</tr>\n",
       "<tr>\n",
       "  <th>No. Observations:</th>      <td>   392</td>      <th>  AIC:               </th> <td>   2068.</td> \n",
       "</tr>\n",
       "<tr>\n",
       "  <th>Df Residuals:</th>          <td>   385</td>      <th>  BIC:               </th> <td>   2096.</td> \n",
       "</tr>\n",
       "<tr>\n",
       "  <th>Df Model:</th>              <td>     6</td>      <th>                     </th>     <td> </td>    \n",
       "</tr>\n",
       "<tr>\n",
       "  <th>Covariance Type:</th>      <td>nonrobust</td>    <th>                     </th>     <td> </td>    \n",
       "</tr>\n",
       "</table>\n",
       "<table class=\"simpletable\">\n",
       "<tr>\n",
       "        <td></td>          <th>coef</th>     <th>std err</th>      <th>t</th>      <th>P>|t|</th> <th>[95.0% Conf. Int.]</th> \n",
       "</tr>\n",
       "<tr>\n",
       "  <th>const</th>        <td>  -18.0915</td> <td>    4.669</td> <td>   -3.875</td> <td> 0.000</td> <td>  -27.271    -8.912</td>\n",
       "</tr>\n",
       "<tr>\n",
       "  <th>cylinders</th>    <td>    0.0746</td> <td>    0.244</td> <td>    0.306</td> <td> 0.760</td> <td>   -0.405     0.554</td>\n",
       "</tr>\n",
       "<tr>\n",
       "  <th>horsepower</th>   <td>   -0.0062</td> <td>    0.013</td> <td>   -0.470</td> <td> 0.638</td> <td>   -0.032     0.020</td>\n",
       "</tr>\n",
       "<tr>\n",
       "  <th>weight</th>       <td>   -0.0058</td> <td>    0.001</td> <td>   -9.580</td> <td> 0.000</td> <td>   -0.007    -0.005</td>\n",
       "</tr>\n",
       "<tr>\n",
       "  <th>acceleration</th> <td>    0.0538</td> <td>    0.099</td> <td>    0.543</td> <td> 0.587</td> <td>   -0.141     0.249</td>\n",
       "</tr>\n",
       "<tr>\n",
       "  <th>year</th>         <td>    0.7418</td> <td>    0.051</td> <td>   14.472</td> <td> 0.000</td> <td>    0.641     0.843</td>\n",
       "</tr>\n",
       "<tr>\n",
       "  <th>origin</th>       <td>    1.1927</td> <td>    0.266</td> <td>    4.487</td> <td> 0.000</td> <td>    0.670     1.715</td>\n",
       "</tr>\n",
       "</table>\n",
       "<table class=\"simpletable\">\n",
       "<tr>\n",
       "  <th>Omnibus:</th>       <td>35.452</td> <th>  Durbin-Watson:     </th> <td>   1.271</td>\n",
       "</tr>\n",
       "<tr>\n",
       "  <th>Prob(Omnibus):</th> <td> 0.000</td> <th>  Jarque-Bera (JB):  </th> <td>  61.984</td>\n",
       "</tr>\n",
       "<tr>\n",
       "  <th>Skew:</th>          <td> 0.562</td> <th>  Prob(JB):          </th> <td>3.47e-14</td>\n",
       "</tr>\n",
       "<tr>\n",
       "  <th>Kurtosis:</th>      <td> 4.591</td> <th>  Cond. No.          </th> <td>8.54e+04</td>\n",
       "</tr>\n",
       "</table>"
      ],
      "text/plain": [
       "<class 'statsmodels.iolib.summary.Summary'>\n",
       "\"\"\"\n",
       "                            OLS Regression Results                            \n",
       "==============================================================================\n",
       "Dep. Variable:                    mpg   R-squared:                       0.818\n",
       "Model:                            OLS   Adj. R-squared:                  0.815\n",
       "Method:                 Least Squares   F-statistic:                     288.8\n",
       "Date:                Wed, 28 Mar 2018   Prob (F-statistic):          3.67e-139\n",
       "Time:                        11:34:43   Log-Likelihood:                -1027.0\n",
       "No. Observations:                 392   AIC:                             2068.\n",
       "Df Residuals:                     385   BIC:                             2096.\n",
       "Df Model:                           6                                         \n",
       "Covariance Type:            nonrobust                                         \n",
       "================================================================================\n",
       "                   coef    std err          t      P>|t|      [95.0% Conf. Int.]\n",
       "--------------------------------------------------------------------------------\n",
       "const          -18.0915      4.669     -3.875      0.000       -27.271    -8.912\n",
       "cylinders        0.0746      0.244      0.306      0.760        -0.405     0.554\n",
       "horsepower      -0.0062      0.013     -0.470      0.638        -0.032     0.020\n",
       "weight          -0.0058      0.001     -9.580      0.000        -0.007    -0.005\n",
       "acceleration     0.0538      0.099      0.543      0.587        -0.141     0.249\n",
       "year             0.7418      0.051     14.472      0.000         0.641     0.843\n",
       "origin           1.1927      0.266      4.487      0.000         0.670     1.715\n",
       "==============================================================================\n",
       "Omnibus:                       35.452   Durbin-Watson:                   1.271\n",
       "Prob(Omnibus):                  0.000   Jarque-Bera (JB):               61.984\n",
       "Skew:                           0.562   Prob(JB):                     3.47e-14\n",
       "Kurtosis:                       4.591   Cond. No.                     8.54e+04\n",
       "==============================================================================\n",
       "\n",
       "Warnings:\n",
       "[1] Standard Errors assume that the covariance matrix of the errors is correctly specified.\n",
       "[2] The condition number is large, 8.54e+04. This might indicate that there are\n",
       "strong multicollinearity or other numerical problems.\n",
       "\"\"\""
      ]
     },
     "execution_count": 78,
     "metadata": {},
     "output_type": "execute_result"
    }
   ],
   "source": [
    "lm3 = sm.OLS(Auto_IV,sm.add_constant(Auto_DV).drop([\"displacement\"], axis=1)).fit()\n",
    "lm3.summary()"
   ]
  },
  {
   "cell_type": "markdown",
   "metadata": {},
   "source": [
    "# Interaction Terms"
   ]
  },
  {
   "cell_type": "code",
   "execution_count": 81,
   "metadata": {
    "collapsed": false
   },
   "outputs": [
    {
     "data": {
      "text/html": [
       "<table class=\"simpletable\">\n",
       "<caption>OLS Regression Results</caption>\n",
       "<tr>\n",
       "  <th>Dep. Variable:</th>           <td>mpg</td>       <th>  R-squared:         </th> <td>   0.748</td> \n",
       "</tr>\n",
       "<tr>\n",
       "  <th>Model:</th>                   <td>OLS</td>       <th>  Adj. R-squared:    </th> <td>   0.746</td> \n",
       "</tr>\n",
       "<tr>\n",
       "  <th>Method:</th>             <td>Least Squares</td>  <th>  F-statistic:       </th> <td>   384.8</td> \n",
       "</tr>\n",
       "<tr>\n",
       "  <th>Date:</th>             <td>Wed, 28 Mar 2018</td> <th>  Prob (F-statistic):</th> <td>7.26e-116</td>\n",
       "</tr>\n",
       "<tr>\n",
       "  <th>Time:</th>                 <td>11:36:10</td>     <th>  Log-Likelihood:    </th> <td> -1090.7</td> \n",
       "</tr>\n",
       "<tr>\n",
       "  <th>No. Observations:</th>      <td>   392</td>      <th>  AIC:               </th> <td>   2189.</td> \n",
       "</tr>\n",
       "<tr>\n",
       "  <th>Df Residuals:</th>          <td>   388</td>      <th>  BIC:               </th> <td>   2205.</td> \n",
       "</tr>\n",
       "<tr>\n",
       "  <th>Df Model:</th>              <td>     3</td>      <th>                     </th>     <td> </td>    \n",
       "</tr>\n",
       "<tr>\n",
       "  <th>Covariance Type:</th>      <td>nonrobust</td>    <th>                     </th>     <td> </td>    \n",
       "</tr>\n",
       "</table>\n",
       "<table class=\"simpletable\">\n",
       "<tr>\n",
       "          <td></td>             <th>coef</th>     <th>std err</th>      <th>t</th>      <th>P>|t|</th> <th>[95.0% Conf. Int.]</th> \n",
       "</tr>\n",
       "<tr>\n",
       "  <th>const</th>             <td>   63.5579</td> <td>    2.343</td> <td>   27.127</td> <td> 0.000</td> <td>   58.951    68.164</td>\n",
       "</tr>\n",
       "<tr>\n",
       "  <th>horsepower</th>        <td>   -0.2508</td> <td>    0.027</td> <td>   -9.195</td> <td> 0.000</td> <td>   -0.304    -0.197</td>\n",
       "</tr>\n",
       "<tr>\n",
       "  <th>weight</th>            <td>   -0.0108</td> <td>    0.001</td> <td>  -13.921</td> <td> 0.000</td> <td>   -0.012    -0.009</td>\n",
       "</tr>\n",
       "<tr>\n",
       "  <th>horsepower*weight</th> <td> 5.355e-05</td> <td> 6.65e-06</td> <td>    8.054</td> <td> 0.000</td> <td> 4.05e-05  6.66e-05</td>\n",
       "</tr>\n",
       "</table>\n",
       "<table class=\"simpletable\">\n",
       "<tr>\n",
       "  <th>Omnibus:</th>       <td>34.175</td> <th>  Durbin-Watson:     </th> <td>   0.904</td>\n",
       "</tr>\n",
       "<tr>\n",
       "  <th>Prob(Omnibus):</th> <td> 0.000</td> <th>  Jarque-Bera (JB):  </th> <td>  54.522</td>\n",
       "</tr>\n",
       "<tr>\n",
       "  <th>Skew:</th>          <td> 0.577</td> <th>  Prob(JB):          </th> <td>1.45e-12</td>\n",
       "</tr>\n",
       "<tr>\n",
       "  <th>Kurtosis:</th>      <td> 4.417</td> <th>  Cond. No.          </th> <td>4.77e+06</td>\n",
       "</tr>\n",
       "</table>"
      ],
      "text/plain": [
       "<class 'statsmodels.iolib.summary.Summary'>\n",
       "\"\"\"\n",
       "                            OLS Regression Results                            \n",
       "==============================================================================\n",
       "Dep. Variable:                    mpg   R-squared:                       0.748\n",
       "Model:                            OLS   Adj. R-squared:                  0.746\n",
       "Method:                 Least Squares   F-statistic:                     384.8\n",
       "Date:                Wed, 28 Mar 2018   Prob (F-statistic):          7.26e-116\n",
       "Time:                        11:36:10   Log-Likelihood:                -1090.7\n",
       "No. Observations:                 392   AIC:                             2189.\n",
       "Df Residuals:                     388   BIC:                             2205.\n",
       "Df Model:                           3                                         \n",
       "Covariance Type:            nonrobust                                         \n",
       "=====================================================================================\n",
       "                        coef    std err          t      P>|t|      [95.0% Conf. Int.]\n",
       "-------------------------------------------------------------------------------------\n",
       "const                63.5579      2.343     27.127      0.000        58.951    68.164\n",
       "horsepower           -0.2508      0.027     -9.195      0.000        -0.304    -0.197\n",
       "weight               -0.0108      0.001    -13.921      0.000        -0.012    -0.009\n",
       "horsepower*weight  5.355e-05   6.65e-06      8.054      0.000      4.05e-05  6.66e-05\n",
       "==============================================================================\n",
       "Omnibus:                       34.175   Durbin-Watson:                   0.904\n",
       "Prob(Omnibus):                  0.000   Jarque-Bera (JB):               54.522\n",
       "Skew:                           0.577   Prob(JB):                     1.45e-12\n",
       "Kurtosis:                       4.417   Cond. No.                     4.77e+06\n",
       "==============================================================================\n",
       "\n",
       "Warnings:\n",
       "[1] Standard Errors assume that the covariance matrix of the errors is correctly specified.\n",
       "[2] The condition number is large, 4.77e+06. This might indicate that there are\n",
       "strong multicollinearity or other numerical problems.\n",
       "\"\"\""
      ]
     },
     "execution_count": 81,
     "metadata": {},
     "output_type": "execute_result"
    }
   ],
   "source": [
    "selected_DV = sm.add_constant(Auto_DV.loc[:, [\"horsepower\",\"weight\"]])\n",
    "selected_DV[\"horsepower*weight\"] = Auto_DV.loc[:, [\"horsepower\"]].values*Auto_DV.loc[:, [\"weight\"]].values\n",
    "\n",
    "lm = sm.OLS(Auto_IV,selected_DV).fit()\n",
    "lm.summary()\n",
    "\n",
    "#Replicate this\n",
    "\n",
    "#selected_DV4 = sm.add_constant(boston_DV[[\"lstat\",\"crim\"]])\n",
    "#selected_DV4[\"lstat*crim\"] = boston_DV[\"lstat\"]*boston_DV[\"crim\"]\n",
    "#lm4 = sm.OLS(boston_IV,selected_DV4).fit()\n",
    "#lm4.summary()"
   ]
  },
  {
   "cell_type": "markdown",
   "metadata": {},
   "source": [
    "# Non-linear Transformations of the Predictors"
   ]
  },
  {
   "cell_type": "code",
   "execution_count": 93,
   "metadata": {
    "collapsed": false
   },
   "outputs": [
    {
     "data": {
      "text/html": [
       "<table class=\"simpletable\">\n",
       "<caption>OLS Regression Results</caption>\n",
       "<tr>\n",
       "  <th>Dep. Variable:</th>           <td>mpg</td>       <th>  R-squared:         </th> <td>   0.688</td>\n",
       "</tr>\n",
       "<tr>\n",
       "  <th>Model:</th>                   <td>OLS</td>       <th>  Adj. R-squared:    </th> <td>   0.686</td>\n",
       "</tr>\n",
       "<tr>\n",
       "  <th>Method:</th>             <td>Least Squares</td>  <th>  F-statistic:       </th> <td>   428.0</td>\n",
       "</tr>\n",
       "<tr>\n",
       "  <th>Date:</th>             <td>Wed, 28 Mar 2018</td> <th>  Prob (F-statistic):</th> <td>5.40e-99</td>\n",
       "</tr>\n",
       "<tr>\n",
       "  <th>Time:</th>                 <td>11:42:39</td>     <th>  Log-Likelihood:    </th> <td> -1133.2</td>\n",
       "</tr>\n",
       "<tr>\n",
       "  <th>No. Observations:</th>      <td>   392</td>      <th>  AIC:               </th> <td>   2272.</td>\n",
       "</tr>\n",
       "<tr>\n",
       "  <th>Df Residuals:</th>          <td>   389</td>      <th>  BIC:               </th> <td>   2284.</td>\n",
       "</tr>\n",
       "<tr>\n",
       "  <th>Df Model:</th>              <td>     2</td>      <th>                     </th>     <td> </td>   \n",
       "</tr>\n",
       "<tr>\n",
       "  <th>Covariance Type:</th>      <td>nonrobust</td>    <th>                     </th>     <td> </td>   \n",
       "</tr>\n",
       "</table>\n",
       "<table class=\"simpletable\">\n",
       "<tr>\n",
       "        <td></td>           <th>coef</th>     <th>std err</th>      <th>t</th>      <th>P>|t|</th> <th>[95.0% Conf. Int.]</th> \n",
       "</tr>\n",
       "<tr>\n",
       "  <th>const</th>         <td>   56.9001</td> <td>    1.800</td> <td>   31.604</td> <td> 0.000</td> <td>   53.360    60.440</td>\n",
       "</tr>\n",
       "<tr>\n",
       "  <th>horsepower</th>    <td>   -0.4662</td> <td>    0.031</td> <td>  -14.978</td> <td> 0.000</td> <td>   -0.527    -0.405</td>\n",
       "</tr>\n",
       "<tr>\n",
       "  <th>horsepower*^2</th> <td>    0.0012</td> <td>    0.000</td> <td>   10.080</td> <td> 0.000</td> <td>    0.001     0.001</td>\n",
       "</tr>\n",
       "</table>\n",
       "<table class=\"simpletable\">\n",
       "<tr>\n",
       "  <th>Omnibus:</th>       <td>16.158</td> <th>  Durbin-Watson:     </th> <td>   1.078</td>\n",
       "</tr>\n",
       "<tr>\n",
       "  <th>Prob(Omnibus):</th> <td> 0.000</td> <th>  Jarque-Bera (JB):  </th> <td>  30.662</td>\n",
       "</tr>\n",
       "<tr>\n",
       "  <th>Skew:</th>          <td> 0.218</td> <th>  Prob(JB):          </th> <td>2.20e-07</td>\n",
       "</tr>\n",
       "<tr>\n",
       "  <th>Kurtosis:</th>      <td> 4.299</td> <th>  Cond. No.          </th> <td>1.29e+05</td>\n",
       "</tr>\n",
       "</table>"
      ],
      "text/plain": [
       "<class 'statsmodels.iolib.summary.Summary'>\n",
       "\"\"\"\n",
       "                            OLS Regression Results                            \n",
       "==============================================================================\n",
       "Dep. Variable:                    mpg   R-squared:                       0.688\n",
       "Model:                            OLS   Adj. R-squared:                  0.686\n",
       "Method:                 Least Squares   F-statistic:                     428.0\n",
       "Date:                Wed, 28 Mar 2018   Prob (F-statistic):           5.40e-99\n",
       "Time:                        11:42:39   Log-Likelihood:                -1133.2\n",
       "No. Observations:                 392   AIC:                             2272.\n",
       "Df Residuals:                     389   BIC:                             2284.\n",
       "Df Model:                           2                                         \n",
       "Covariance Type:            nonrobust                                         \n",
       "=================================================================================\n",
       "                    coef    std err          t      P>|t|      [95.0% Conf. Int.]\n",
       "---------------------------------------------------------------------------------\n",
       "const            56.9001      1.800     31.604      0.000        53.360    60.440\n",
       "horsepower       -0.4662      0.031    -14.978      0.000        -0.527    -0.405\n",
       "horsepower*^2     0.0012      0.000     10.080      0.000         0.001     0.001\n",
       "==============================================================================\n",
       "Omnibus:                       16.158   Durbin-Watson:                   1.078\n",
       "Prob(Omnibus):                  0.000   Jarque-Bera (JB):               30.662\n",
       "Skew:                           0.218   Prob(JB):                     2.20e-07\n",
       "Kurtosis:                       4.299   Cond. No.                     1.29e+05\n",
       "==============================================================================\n",
       "\n",
       "Warnings:\n",
       "[1] Standard Errors assume that the covariance matrix of the errors is correctly specified.\n",
       "[2] The condition number is large, 1.29e+05. This might indicate that there are\n",
       "strong multicollinearity or other numerical problems.\n",
       "\"\"\""
      ]
     },
     "execution_count": 93,
     "metadata": {},
     "output_type": "execute_result"
    }
   ],
   "source": [
    "selected_DV = sm.add_constant(Auto_DV.loc[:, [\"horsepower\"]])\n",
    "selected_DV[\"horsepower*^2\"] = Auto_DV.loc[:, [\"horsepower\"]].values**2\n",
    "\n",
    "lm2 = sm.OLS(Auto_IV,selected_DV).fit()\n",
    "lm2.summary()\n",
    "\n",
    "#selected_DV5 = sm.add_constant(boston_DV[[\"lstat\"]])\n",
    "#selected_DV5[\"sqrt(lstat)\"] = boston_DV[\"lstat\"]**0.5\n",
    "#lm5 = sm.OLS(boston_IV,selected_DV5).fit()\n",
    "#lm5.summary()"
   ]
  },
  {
   "cell_type": "code",
   "execution_count": null,
   "metadata": {
    "collapsed": true
   },
   "outputs": [],
   "source": [
    "#import math\n",
    "#\n",
    "#selected_DV6 = sm.add_constant(boston_DV[[\"lstat\"]])\n",
    "#selected_DV6[\"log(lstat)\"] = (boston_DV[\"lstat\"]).apply(math.log)\n",
    "#lm6 = sm.OLS(boston_IV,selected_DV6).fit()\n",
    "#lm6.summary()"
   ]
  },
  {
   "cell_type": "markdown",
   "metadata": {},
   "source": [
    "## Nested Model Comparisons"
   ]
  },
  {
   "cell_type": "code",
   "execution_count": 94,
   "metadata": {
    "collapsed": false
   },
   "outputs": [
    {
     "name": "stdout",
     "output_type": "stream",
     "text": [
      "   df_resid          ssr  df_diff     ss_diff           F        Pr(>F)\n",
      "0     390.0  9385.915872      0.0         NaN         NaN           NaN\n",
      "1     389.0  7442.029412      1.0  1943.88646  101.608283  2.196340e-21\n"
     ]
    }
   ],
   "source": [
    "sm.stats.anova_lm(lm,lm5)"
   ]
  },
  {
   "cell_type": "code",
   "execution_count": null,
   "metadata": {
    "collapsed": true
   },
   "outputs": [],
   "source": [
    "sm.stats.anova_lm(lm,lm6)"
   ]
  },
  {
   "cell_type": "code",
   "execution_count": null,
   "metadata": {
    "collapsed": true
   },
   "outputs": [],
   "source": [
    "sm.stats.anova_lm(lm,lm2)"
   ]
  },
  {
   "cell_type": "code",
   "execution_count": 95,
   "metadata": {
    "collapsed": false
   },
   "outputs": [
    {
     "data": {
      "image/png": "[encoded data removed]",
      "text/plain": [
       "<matplotlib.figure.Figure at 0x7f92a0523610>"
      ]
     },
     "metadata": {},
     "output_type": "display_data"
    }
   ],
   "source": [
    "#Set plotsize - the below means ten inches down by ten inches across.\n",
    "plt.figure(figsize=(10,10))\n",
    "\n",
    "# Top Left\n",
    "plt.subplot(221)\n",
    "plt.scatter(lm2.fittedvalues,lm2.resid,marker=\"+\",c=\"black\")\n",
    "plt.scatter(lm2.fittedvalues,sm.nonparametric.lowess(lm2.resid,lm2.fittedvalues, return_sorted=False), marker=\"+\", c='red')\n",
    "plt.plot([np.min(lm2.fittedvalues),np.max(lm2.fittedvalues)],[0,0], color='grey', linewidth=1)\n",
    "plt.xlabel('Fitted values', fontsize=12)\n",
    "plt.ylabel('Residuals', fontsize=12)\n",
    "\n",
    "# Top Right\n",
    "plt.subplot(222)\n",
    "plt.scatter(np.sort((stats.norm.ppf((Auto['mpg'].index.values + 1)/(lm2.nobs+1)))),np.sort(lm2.resid_pearson),marker=\"+\",c=\"black\")\n",
    "plt.plot([min(np.min(lm2.resid_pearson),np.min(((stats.norm.ppf((Auto['mpg'].index.values + 1)/(lm2.nobs+1)))))),max(np.max(lm2.resid_pearson),np.max(((stats.norm.ppf((Auto['mpg'].index.values + 1)/(lm2.nobs+1))))))],[min(np.min(lm2.resid_pearson),np.min(((stats.norm.ppf((Auto['mpg'].index.values + 1)/(lm2.nobs+1)))))),max(np.max(lm2.resid_pearson),np.max(((stats.norm.ppf((Auto['mpg'].index.values + 1)/(lm2.nobs+1))))))], color='grey', linewidth=1)\n",
    "plt.xlabel('Theoretical Quanties', fontsize=12)\n",
    "plt.ylabel('Standardised Residuals', fontsize=12)\n",
    "                                                 \n",
    "                                                  \n",
    "# Bottom Left\n",
    "plt.subplot(223)\n",
    "plt.ylim(0.0,2.0)\n",
    "plt.scatter(lm2.fittedvalues,lm2.resid_pearson**.5,marker=\"+\",c=\"black\")\n",
    "plt.scatter(lm2.fittedvalues,sm.nonparametric.lowess(lm2.resid_pearson**.5,lm2.fittedvalues, return_sorted=False), marker=\"+\", c='red')\n",
    "plt.xlabel('Fitted values', fontsize=12)\n",
    "plt.ylabel('Square Root Standardised Residuals', fontsize=12)\n",
    "\n",
    "\n",
    "# Bottom Right\n",
    "plt.subplot(224)\n",
    "plt.scatter((lm2.get_influence().hat_matrix_diag),lm2.resid_pearson,marker=\"+\",c=\"black\")\n",
    "plt.scatter((lm2.get_influence().hat_matrix_diag),sm.nonparametric.lowess(lm2.resid_pearson,(lm2.get_influence().hat_matrix_diag), return_sorted=False), marker=\"+\", c='red')\n",
    "plt.plot([np.min((lm2.get_influence().hat_matrix_diag)),np.max((lm2.get_influence().hat_matrix_diag))],[0,0], color='grey', linewidth=1)\n",
    "plt.xlabel('Leverage', fontsize=12)\n",
    "plt.ylabel('Standardised Residuals', fontsize=12)\n",
    "\n",
    "plt.show()\n",
    "\n",
    "#####CHECK BELOW#####\n",
    "\n",
    "plt.figure(figsize=(10,10))\n",
    "\n",
    "# Top Left\n",
    "plt.subplot(221)\n",
    "plt.scatter(lm6.fittedvalues,lm6.resid,marker=\"+\",c=\"black\")\n",
    "plt.scatter(lm6.fittedvalues,sm.nonparametric.lowess(lm6.resid,lm6.fittedvalues, return_sorted=False), marker=\"+\", c='red')\n",
    "plt.plot([np.min(lm6.fittedvalues),np.max(lm6.fittedvalues)],[0,0], color='grey', linewidth=1)\n",
    "plt.xlabel('Fitted values', fontsize=12)\n",
    "plt.ylabel('Residuals', fontsize=12)\n",
    "\n",
    "# Top Right\n",
    "theoretical_distribution = np.sort((stats.norm.ppf((boston_pd['medv'].index.values + 1)/(lm6.nobs+1))))\n",
    "observed_distribution = np.sort(lm6.resid_pearson)\n",
    "\n",
    "plt.subplot(222)\n",
    "plt.scatter(theoretical_distribution,observed_distribution,marker=\"+\",c=\"black\")\n",
    "plt.plot([min(np.min(observed_distribution),np.min(theoretical_distribution)),max(np.max(observed_distribution),np.max(theoretical_distribution))],[min(np.min(observed_distribution),np.min(theoretical_distribution)),max(np.max(observed_distribution),np.max(theoretical_distribution))], color='grey', linewidth=1)\n",
    "plt.xlabel('Theoretical Quanties', fontsize=12)\n",
    "plt.ylabel('Standardised Residuals', fontsize=12)\n",
    "\n",
    "# Bottom Left\n",
    "plt.subplot(223)\n",
    "plt.ylim(0.0,2.0)\n",
    "plt.scatter(lm6.fittedvalues,lm6.resid_pearson**.5,marker=\"+\",c=\"black\")\n",
    "plt.scatter(lm6.fittedvalues,sm.nonparametric.lowess(lm6.resid_pearson**.5,lm6.fittedvalues, return_sorted=False), marker=\"+\", c='red')\n",
    "plt.xlabel('Fitted values', fontsize=12)\n",
    "plt.ylabel('Square Root Standardised Residuals', fontsize=12)\n",
    "\n",
    "# Bottom Right\n",
    "plt.subplot(224)\n",
    "plt.xlim(0.00,0.03)\n",
    "plt.scatter((lm6.get_influence().hat_matrix_diag),lm6.resid_pearson,marker=\"+\",c=\"black\")\n",
    "plt.scatter((lm6.get_influence().hat_matrix_diag),sm.nonparametric.lowess(lm6.resid_pearson,(lm6.get_influence().hat_matrix_diag), return_sorted=False), marker=\"+\", c='red')\n",
    "plt.plot([np.min((lm6.get_influence().hat_matrix_diag)),np.max((lm6.get_influence().hat_matrix_diag))],[0,0], color='grey', linewidth=1)\n",
    "plt.xlabel('Leverage', fontsize=12)\n",
    "plt.ylabel('Standardised Residuals', fontsize=12)\n",
    "\n",
    "plt.show()"
   ]
  },
  {
   "cell_type": "markdown",
   "metadata": {},
   "source": [
    "# Qualitative Predictors"
   ]
  },
  {
   "cell_type": "markdown",
   "metadata": {},
   "source": [
    "## Including Existing Qualitative Predictors"
   ]
  },
  {
   "cell_type": "code",
   "execution_count": null,
   "metadata": {
    "collapsed": true
   },
   "outputs": [],
   "source": [
    "selected_DV7 = selected_DV6.copy()\n",
    "selected_DV7[\"chas\"] = boston_DV[\"chas\"].copy()\n",
    "lm7 = sm.OLS(boston_IV,selected_DV7).fit()\n",
    "lm7.summary()"
   ]
  },
  {
   "cell_type": "code",
   "execution_count": null,
   "metadata": {
    "collapsed": true
   },
   "outputs": [],
   "source": [
    "sm.stats.anova_lm(lm6,lm7)"
   ]
  },
  {
   "cell_type": "markdown",
   "metadata": {},
   "source": [
    "## Creating New Qualitative Predictors"
   ]
  },
  {
   "cell_type": "code",
   "execution_count": null,
   "metadata": {
    "collapsed": true
   },
   "outputs": [],
   "source": [
    "#set(Auto[\"cylinders\"])\n",
    "#boxplots?\n",
    "\n",
    "n_bins = int(boston_DV[\"rad\"].max()-boston_DV[\"rad\"].min())\n",
    "plt.hist(boston_DV[\"rad\"], bins=n_bins)\n",
    "plt.show()"
   ]
  },
  {
   "cell_type": "code",
   "execution_count": null,
   "metadata": {
    "collapsed": true
   },
   "outputs": [],
   "source": [
    "def categoricalRadius(radius):\n",
    "    '''Return a categorical variable based on the accessibility to radial highways. Visual inspection reveals accessibilty clusters one where the accessibilty index is less than 10 and one where it is more than 20.'''\n",
    "    \n",
    "    if radius <= 10:\n",
    "        catRad = \"Near\"\n",
    "    else:\n",
    "        catRad = \"Far\"\n",
    "        \n",
    "    return catRad"
   ]
  },
  {
   "cell_type": "code",
   "execution_count": null,
   "metadata": {
    "collapsed": true
   },
   "outputs": [],
   "source": [
    "selected_DV8 = selected_DV7.copy()\n",
    "catRad = (boston_DV[\"rad\"]).apply(categoricalRadius)"
   ]
  },
  {
   "cell_type": "code",
   "execution_count": null,
   "metadata": {
    "collapsed": true
   },
   "outputs": [],
   "source": [
    "selected_DV8[[\"Rad_Far\", \"Rad_Near\"]] = pd.get_dummies(catRad, prefix='Rad')\n",
    "selected_DV8 = selected_DV8.drop([\"Rad_Near\"],axis=1)"
   ]
  },
  {
   "cell_type": "code",
   "execution_count": null,
   "metadata": {
    "collapsed": true
   },
   "outputs": [],
   "source": [
    "lm8 = sm.OLS(boston_IV,selected_DV8).fit()\n",
    "lm8.summary()"
   ]
  },
  {
   "cell_type": "code",
   "execution_count": null,
   "metadata": {
    "collapsed": true
   },
   "outputs": [],
   "source": [
    "sm.stats.anova_lm(lm,lm6,lm7,lm8)"
   ]
  }
 ],
 "metadata": {
  "anaconda-cloud": {},
  "kernelspec": {
   "display_name": "Python [default]",
   "language": "python",
   "name": "python2"
  },
  "language_info": {
   "codemirror_mode": {
    "name": "ipython",
    "version": 2
   },
   "file_extension": ".py",
   "mimetype": "text/x-python",
   "name": "python",
   "nbconvert_exporter": "python",
   "pygments_lexer": "ipython2",
   "version": "2.7.12"
  }
 },
 "nbformat": 4,
 "nbformat_minor": 1
}
